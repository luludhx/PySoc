{
 "cells": [
  {
   "cell_type": "markdown",
   "id": "62ecdc38",
   "metadata": {},
   "source": [
    "# Warm-up exercises"
   ]
  },
  {
   "cell_type": "markdown",
   "id": "1f9af16d",
   "metadata": {},
   "source": [
    "### These are the exercises from your Physics and Communication Skills 2 canvas page. We recommend you try them out, if only to get used to Jupyter notebooks.\n",
    "\n",
    "***\n",
    "\n",
    "**1)** A prime number is a natural number greater than 1 that cannot be represented as a product of two smaller natural numbers. Is was proved by Euclid around 300 BC that there is are infinitely many prime numbers. Write a program which prints out the first 100 prime numbers."
   ]
  },
  {
   "cell_type": "code",
   "execution_count": null,
   "id": "24d39468",
   "metadata": {},
   "outputs": [],
   "source": []
  },
  {
   "cell_type": "markdown",
   "id": "ec8ef264",
   "metadata": {},
   "source": [
    "**2)** Twin primes are a pair of prime numbers differing by two. Twin primes are necessarily odd, and can be presented as 2k+1 and 2k+3, where k>0. Whether there are infinitely many of twin primes (the twin prime conjecture) is one of the oldest unsolved problems in mathematics, dating back to Euclid's times. Write a program which prints out the first 100 pairs of twin primes."
   ]
  },
  {
   "cell_type": "code",
   "execution_count": null,
   "id": "ce0fceab",
   "metadata": {},
   "outputs": [],
   "source": []
  },
  {
   "cell_type": "markdown",
   "id": "b145c14a",
   "metadata": {},
   "source": [
    "**3)** Goldbach's conjecture dating back to the 18th century represents an important unsolved problem in mathematics. It states that any even number greater than 2 can be represented as a sum of two primes. Write a program which represents a given even number exceeding 1,000,000 as a sum of two primes."
   ]
  },
  {
   "cell_type": "code",
   "execution_count": null,
   "id": "97e3aa62",
   "metadata": {},
   "outputs": [],
   "source": []
  },
  {
   "cell_type": "markdown",
   "id": "7e2d3431",
   "metadata": {},
   "source": [
    "**3)** The prime-counting function π(x) is defined as the number of prime numbers less than or equal to x. Write a program to demonstrate numerically that π(x) can be approximated by x/ln(x). This can be done, for instance, by plotting the ratio π(x) / (x/ln(x))."
   ]
  },
  {
   "cell_type": "code",
   "execution_count": null,
   "id": "467c8749",
   "metadata": {},
   "outputs": [],
   "source": []
  },
  {
   "cell_type": "markdown",
   "id": "15df3677",
   "metadata": {},
   "source": [
    "**4)** A perfect number is a natural number which is equal to the sum of its divisors, excluding the number itself. The smallest perfect number is 6=1+2+3. Write a program in Python to identify the next three smallest perfect numbers. In case you discover an odd perfect number, please contact the head of lab: you have solved a long-standing problem in mathematics."
   ]
  },
  {
   "cell_type": "code",
   "execution_count": null,
   "id": "db033134",
   "metadata": {},
   "outputs": [],
   "source": []
  }
 ],
 "metadata": {
  "kernelspec": {
   "display_name": "Python 3 (ipykernel)",
   "language": "python",
   "name": "python3"
  },
  "language_info": {
   "codemirror_mode": {
    "name": "ipython",
    "version": 3
   },
   "file_extension": ".py",
   "mimetype": "text/x-python",
   "name": "python",
   "nbconvert_exporter": "python",
   "pygments_lexer": "ipython3",
   "version": "3.9.16"
  }
 },
 "nbformat": 4,
 "nbformat_minor": 5
}
