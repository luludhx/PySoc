{
 "cells": [
  {
   "cell_type": "markdown",
   "id": "62ecdc38",
   "metadata": {},
   "source": [
    "# Warm-up exercises with answers"
   ]
  },
  {
   "cell_type": "code",
   "execution_count": 1,
   "id": "030eee34",
   "metadata": {},
   "outputs": [],
   "source": [
    "#execute this cell first to activate the imports!!!\n",
    "import math as m\n",
    "import numpy as np\n",
    "import matplotlib.pyplot as plt"
   ]
  },
  {
   "cell_type": "markdown",
   "id": "1f9af16d",
   "metadata": {},
   "source": [
    "### These are the exercises from your Physics and Communication Skills 2 canvas page. We recommend you try them out, if only to get used to Jupyter notebooks.\n",
    "\n",
    "***\n",
    "\n",
    "**1)** A prime number is a natural number greater than 1 that cannot be represented as a product of two smaller natural numbers. Is was proved by Euclid around 300 BC that there is are infinitely many prime numbers. Write a program which prints out the first 100 prime numbers."
   ]
  },
  {
   "cell_type": "code",
   "execution_count": 2,
   "id": "24d39468",
   "metadata": {},
   "outputs": [
    {
     "name": "stdout",
     "output_type": "stream",
     "text": [
      "[2, 3, 5, 7, 11, 13, 17, 19, 23, 29, 31, 37, 41, 43, 47, 53, 59, 61, 67, 71, 73, 79, 83, 89, 97, 101, 103, 107, 109, 113, 127, 131, 137, 139, 149, 151, 157, 163, 167, 173, 179, 181, 191, 193, 197, 199, 211, 223, 227, 229, 233, 239, 241, 251, 257, 263, 269, 271, 277, 281, 283, 293, 307, 311, 313, 317, 331, 337, 347, 349, 353, 359, 367, 373, 379, 383, 389, 397, 401, 409, 419, 421, 431, 433, 439, 443, 449, 457, 461, 463, 467, 479, 487, 491, 499, 503, 509, 521, 523, 541]\n",
      "Size is 100\n"
     ]
    }
   ],
   "source": [
    "prime = []\n",
    "for num in range(2, 1000):\n",
    "    if all(num % i != 0 for i in range(2, int(m.sqrt(num) +1))): \n",
    "        prime.append(num)\n",
    "    if len(prime) >= 100: break\n",
    "print(prime)\n",
    "print(f\"Size is {len(prime)}\") # using f-strings to format strings is the most convenient\n",
    "# when factorising a number n=a*b into pairs (a,b), at least one of those numbers will be smaller \n",
    "# than sqrt(n): take a<b, so a^2<ab and ab<b^2 => a^2<ab<b^2 => a<sqrt(n)<b\n",
    "# evaluate at sqrt(n)+1 because range's upper bound is exclusive\n"
   ]
  },
  {
   "cell_type": "markdown",
   "id": "ec8ef264",
   "metadata": {},
   "source": [
    "**2)** Twin primes are a pair of prime numbers differing by two. Twin primes are necessarily odd, and can be presented as 2k+1 and 2k+3, where k>0. Whether there are infinitely many of twin primes (the twin prime conjecture) is one of the oldest unsolved problems in mathematics, dating back to Euclid's times. Write a program which prints out the first 100 pairs of twin primes."
   ]
  },
  {
   "cell_type": "code",
   "execution_count": 3,
   "id": "ce0fceab",
   "metadata": {},
   "outputs": [
    {
     "name": "stdout",
     "output_type": "stream",
     "text": [
      "[(3, 5), (5, 7), (11, 13), (17, 19), (29, 31), (41, 43), (59, 61), (71, 73), (101, 103), (107, 109), (137, 139), (149, 151), (179, 181), (191, 193), (197, 199), (227, 229), (239, 241), (269, 271), (281, 283), (311, 313), (347, 349), (419, 421), (431, 433), (461, 463), (521, 523), (569, 571), (599, 601), (617, 619), (641, 643), (659, 661), (809, 811), (821, 823), (827, 829), (857, 859), (881, 883), (1019, 1021), (1031, 1033), (1049, 1051), (1061, 1063), (1091, 1093), (1151, 1153), (1229, 1231), (1277, 1279), (1289, 1291), (1301, 1303), (1319, 1321), (1427, 1429), (1451, 1453), (1481, 1483), (1487, 1489), (1607, 1609), (1619, 1621), (1667, 1669), (1697, 1699), (1721, 1723), (1787, 1789), (1871, 1873), (1877, 1879), (1931, 1933), (1949, 1951), (1997, 1999), (2027, 2029), (2081, 2083), (2087, 2089), (2111, 2113), (2129, 2131), (2141, 2143), (2237, 2239), (2267, 2269), (2309, 2311), (2339, 2341), (2381, 2383), (2549, 2551), (2591, 2593), (2657, 2659), (2687, 2689), (2711, 2713), (2729, 2731), (2789, 2791), (2801, 2803), (2969, 2971), (2999, 3001), (3119, 3121), (3167, 3169), (3251, 3253), (3257, 3259), (3299, 3301), (3329, 3331), (3359, 3361), (3371, 3373), (3389, 3391), (3461, 3463), (3467, 3469), (3527, 3529), (3539, 3541), (3557, 3559), (3581, 3583), (3671, 3673), (3767, 3769), (3821, 3823)]\n",
      "Size is 100\n"
     ]
    }
   ],
   "source": [
    "# first we make a big list of primes\n",
    "prime = []\n",
    "for num in range(2, 5000):\n",
    "    if all(num % i != 0 for i in range(2, int(m.sqrt(num) +1))): \n",
    "        prime.append(num)\n",
    "# then we check which are twin, and pair them\n",
    "twin = []\n",
    "for i in range(len(prime)-1):\n",
    "    if prime[i+1] == 2+prime[i]:\n",
    "        twin.append((prime[i], prime[i+1]))\n",
    "    if len(twin) >= 100: break\n",
    "print(twin)\n",
    "print(f\"Size is {len(twin)}\")"
   ]
  },
  {
   "cell_type": "markdown",
   "id": "b145c14a",
   "metadata": {},
   "source": [
    "**3)** Goldbach's conjecture dating back to the 18th century represents an important unsolved problem in mathematics. It states that any even number greater than 2 can be represented as a sum of two primes. Write a program which represents a given even number exceeding 1,000,000 as a sum of two primes."
   ]
  },
  {
   "cell_type": "code",
   "execution_count": null,
   "id": "97e3aa62",
   "metadata": {},
   "outputs": [],
   "source": [
    "# to be more efficient, we work with functions instead of looping multiple times through lists\n",
    "# we can write a function that checks whether a given number is prime using Sieve of Eratosthenes\n",
    "# but on account of laziness we'll just use our previous code and wait a bit longer\n",
    "\n",
    "def is_prime(x):\n",
    "    for i in range(2, int(m.sqrt(x) +1)): \n",
    "        if x % i != 0:\n",
    "            return True\n",
    "\n",
    "nb=int(input(f\"Even number exceeding 1 000 000:\"))\n",
    "if nb<1000000 or nb%2 !=0: print(f\":/\")\n",
    "else:\n",
    "    for i in range(2, nb):\n",
    "        if is_prime(i) and is_prime(nb-i):\n",
    "            print(f\"{i} + {nb-i} = {nb}\")\n",
    "            break"
   ]
  },
  {
   "cell_type": "markdown",
   "id": "7e2d3431",
   "metadata": {},
   "source": [
    "**3)** The prime-counting function π(x) is defined as the number of prime numbers less than or equal to x. Write a program to demonstrate numerically that π(x) can be approximated by x/ln(x). This can be done, for instance, by plotting the ratio π(x) / (x/ln(x))."
   ]
  },
  {
   "cell_type": "code",
   "execution_count": 5,
   "id": "467c8749",
   "metadata": {},
   "outputs": [
    {
     "data": {
      "image/png": "[encoded data removed]",
      "text/plain": [
       "<Figure size 800x400 with 1 Axes>"
      ]
     },
     "metadata": {},
     "output_type": "display_data"
    }
   ],
   "source": [
    "# lets define the prime-counting function first- it needs to handle numpy arrays\n",
    "def prime_count(a):\n",
    "    for counter, value in enumerate(a):\n",
    "        prime = []\n",
    "        for num in range(2, m.floor(value)+1):\n",
    "            if all(num % i != 0 for i in range(2, int(m.sqrt(num) +1))): \n",
    "                prime.append(num)\n",
    "        a[counter] = len(prime)\n",
    "    return a\n",
    "\n",
    "# plotting\n",
    "x = np.linspace(1.01, 50, 1000)\n",
    "y = x/np.log(x)\n",
    "a = np.linspace(1.01, 50, 1000) \n",
    "w =prime_count(a) # use another name otherwise the axis will be the image of the function\n",
    "\n",
    "plt.figure(figsize=(8, 4))\n",
    "plt.plot(x, y, label='y = $x/ln(x)', color='m')\n",
    "plt.plot(x, w, label='y = $\\pi$(x)', color='c')\n",
    "plt.ylim(0, 60)\n",
    "plt.xlabel('x')\n",
    "plt.ylabel('y')\n",
    "plt.title('Approximation of the prime-counting function')\n",
    "plt.legend()\n",
    "plt.show()\n",
    "\n",
    "# always be careful to label your axes and the figure- you'll lose marks if you don't!"
   ]
  },
  {
   "cell_type": "markdown",
   "id": "15df3677",
   "metadata": {},
   "source": [
    "**4)** A perfect number is a natural number which is equal to the sum of its divisors, excluding the number itself. The smallest perfect number is 6=1+2+3. Write a program to identify the next three smallest perfect numbers. In case you discover an odd perfect number, please contact the head of lab: you have solved a long-standing problem in mathematics."
   ]
  },
  {
   "cell_type": "code",
   "execution_count": null,
   "id": "db033134",
   "metadata": {},
   "outputs": [],
   "source": [
    "\n"
   ]
  }
 ],
 "metadata": {
  "kernelspec": {
   "display_name": "Python 3 (ipykernel)",
   "language": "python",
   "name": "python3"
  },
  "language_info": {
   "codemirror_mode": {
    "name": "ipython",
    "version": 3
   },
   "file_extension": ".py",
   "mimetype": "text/x-python",
   "name": "python",
   "nbconvert_exporter": "python",
   "pygments_lexer": "ipython3",
   "version": "3.9.16"
  }
 },
 "nbformat": 4,
 "nbformat_minor": 5
}
